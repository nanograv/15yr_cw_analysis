{
 "cells": [
  {
   "cell_type": "markdown",
   "id": "ff82dfb4",
   "metadata": {},
   "source": [
    "# Frequency and sky location dependent luminosity distance limits"
   ]
  },
  {
   "cell_type": "markdown",
   "id": "000e64a3",
   "metadata": {},
   "source": [
    "This notebook shows how one can access the frequency and sky dependent distance limits on supermassive black hole binaries from the NANOGrav 15-year individual binary search. This can be used to evaluate the sensitivity of this dataset for particular binary candidates. Note, however, that a targeted analysis is always more sensitive than the all-sky limits presented here."
   ]
  },
  {
   "cell_type": "code",
   "execution_count": 2,
   "id": "cfef4140",
   "metadata": {},
   "outputs": [],
   "source": [
    "import numpy as np\n",
    "import healpy as hp"
   ]
  },
  {
   "cell_type": "code",
   "execution_count": 3,
   "id": "32f0cc81",
   "metadata": {},
   "outputs": [],
   "source": [
    "#first we need to load in the data file containing the limits\n",
    "npzfile = np.load(\"data/15yr_cw_3d_UL_v1.npz\")\n",
    "\n",
    "#this is the 2D array containing the luminosity distance limits in Mpc as a function of frequency bin and sky pixel\n",
    "dist_limit_skies = npzfile[\"dist_UL_skies\"]\n",
    "\n",
    "#this array defines the edges of the GW frequency bins\n",
    "F_edges = npzfile[\"F_edges\"]"
   ]
  },
  {
   "cell_type": "code",
   "execution_count": 18,
   "id": "77ec195b",
   "metadata": {},
   "outputs": [
    {
     "name": "stdout",
     "output_type": "stream",
     "text": [
      "Frequency index: 18\n",
      "Frequency bin lower edge: 1.6035629588688944e-08 Hz\n",
      "Frequency bin upper edge: 1.870833934774916e-08 Hz\n",
      "Sky index: 101\n",
      "----------------------------------------------------------------------\n",
      "Luminosity distance limit: 697.408331084078 Mpc\n",
      "----------------------------------------------------------------------\n"
     ]
    }
   ],
   "source": [
    "#In this cell we get the luminosity distance limit for a given GW frequency, sky location and chirp mass\n",
    "#####################################################################\n",
    "#\n",
    "# INPUT PARAMETERS\n",
    "#\n",
    "#####################################################################\n",
    "#GW frequency\n",
    "f = 17*1e-9 #Hz\n",
    "#Right ascension\n",
    "RA = 20/24*360 #deg\n",
    "#declination\n",
    "dec = -5 #deg\n",
    "#chirp mass\n",
    "M_c = 3e9 #solar mass\n",
    "#####################################################################\n",
    "\n",
    "#get the healpix NSIDE parameter from the size of the maps\n",
    "NSIDE = hp.npix2nside(dist_limit_skies.shape[1])\n",
    "\n",
    "#get the frequency index corresponding to the GW frequency\n",
    "#(print index and bin edges to make sure we got the right one)\n",
    "f_idx = np.argmin(f>np.array(F_edges))-1\n",
    "print(f\"Frequency index: {f_idx}\")\n",
    "print(f\"Frequency bin lower edge: {F_edges[f_idx]} Hz\")\n",
    "print(f\"Frequency bin upper edge: {F_edges[f_idx+1]} Hz\")\n",
    "\n",
    "#get the healpix index corresponding to the sky location\n",
    "sky_idx = hp.ang2pix(NSIDE, np.pi/2-dec*np.pi/180.0, RA*np.pi/180.0)\n",
    "print(f\"Sky index: {sky_idx}\")\n",
    "\n",
    "#Scale limit to proper chirp mass and print result\n",
    "print(\"-\"*70)\n",
    "print(f\"Luminosity distance limit: {dist_limit_skies[f_idx, sky_idx]*(M_c/1e9)**(5/3)} Mpc\")\n",
    "print(\"-\"*70)"
   ]
  },
  {
   "cell_type": "code",
   "execution_count": null,
   "id": "fc0a8196",
   "metadata": {},
   "outputs": [],
   "source": []
  }
 ],
 "metadata": {
  "kernelspec": {
   "display_name": "Python 3 (ipykernel)",
   "language": "python",
   "name": "python3"
  },
  "language_info": {
   "codemirror_mode": {
    "name": "ipython",
    "version": 3
   },
   "file_extension": ".py",
   "mimetype": "text/x-python",
   "name": "python",
   "nbconvert_exporter": "python",
   "pygments_lexer": "ipython3",
   "version": "3.9.12"
  },
  "toc": {
   "base_numbering": 1,
   "nav_menu": {},
   "number_sections": true,
   "sideBar": true,
   "skip_h1_title": false,
   "title_cell": "Table of Contents",
   "title_sidebar": "Contents",
   "toc_cell": false,
   "toc_position": {},
   "toc_section_display": true,
   "toc_window_display": false
  }
 },
 "nbformat": 4,
 "nbformat_minor": 5
}
