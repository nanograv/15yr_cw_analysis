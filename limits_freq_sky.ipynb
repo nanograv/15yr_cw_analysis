{
 "cells": [
  {
   "cell_type": "markdown",
   "id": "ff82dfb4",
   "metadata": {},
   "source": [
    "# Frequency and sky location dependent limits"
   ]
  },
  {
   "cell_type": "markdown",
   "id": "000e64a3",
   "metadata": {},
   "source": [
    "This notebook shows how one can access the frequency and sky dependent limits on supermassive black hole binaries from the NANOGrav 15-year individual binary search, both in terms of strain amplitude and luminosity distance. This can be used to evaluate the sensitivity of this dataset for particular binary candidates. Note, however, that a targeted analysis is always more sensitive than the all-sky limits presented here."
   ]
  },
  {
   "cell_type": "code",
   "execution_count": null,
   "id": "cfef4140",
   "metadata": {},
   "outputs": [],
   "source": [
    "import numpy as np\n",
    "import healpy as hp"
   ]
  },
  {
   "cell_type": "code",
   "execution_count": null,
   "id": "32f0cc81",
   "metadata": {},
   "outputs": [],
   "source": [
    "#first we need to load in the data file containing the limits\n",
    "npzfile = np.load(\"data/15yr_cw_3d_limits_v4.npz\")\n",
    "\n",
    "#this is the 2D array containing the luminosity distance limits in Mpc as a function of frequency bin and sky pixel\n",
    "dist_limit_skies = npzfile[\"dist_UL_skies\"]\n",
    "#this is a 2D array containing 1-sigma statistical errors on the distance limits in Mpc\n",
    "dist_limit_sky_sigmas = npzfile[\"dist_UL_sky_sigmas\"]\n",
    "\n",
    "#this is the 2D array containing the strain upper limits as a function of frequency bin and sky pixel\n",
    "strain_limit_skies = npzfile[\"UL_skies\"]\n",
    "#this is a 2D array containing 1-sigma statistical errors on the strain upper limits\n",
    "strain_limit_sky_sigmas = npzfile[\"UL_sky_sigmas\"]\n",
    "\n",
    "#this array defines the edges of the GW frequency bins\n",
    "F_edges = npzfile[\"F_edges\"]"
   ]
  },
  {
   "cell_type": "markdown",
   "id": "30f48428",
   "metadata": {},
   "source": [
    "## Luminosity distance lower limits"
   ]
  },
  {
   "cell_type": "code",
   "execution_count": null,
   "id": "77ec195b",
   "metadata": {},
   "outputs": [],
   "source": [
    "#In this cell we get the luminosity distance limit for a given GW frequency, sky location and chirp mass\n",
    "#####################################################################\n",
    "#\n",
    "# INPUT PARAMETERS\n",
    "#\n",
    "#####################################################################\n",
    "#GW frequency\n",
    "f = 11*1e-9 #Hz\n",
    "#Right ascension\n",
    "RA = 20/24*360 #deg\n",
    "#declination\n",
    "dec = -15 #deg\n",
    "#chirp mass\n",
    "M_c = 3e9 #solar mass\n",
    "#####################################################################\n",
    "\n",
    "#get the healpix NSIDE parameter from the size of the maps\n",
    "NSIDE = hp.npix2nside(dist_limit_skies.shape[1])\n",
    "\n",
    "#get the frequency index corresponding to the GW frequency\n",
    "#(print index and bin edges to make sure we got the right one)\n",
    "f_idx = np.argmin(f>np.array(F_edges))-1\n",
    "print(f\"Frequency index: {f_idx}\")\n",
    "print(f\"Frequency bin lower edge: {F_edges[f_idx]} Hz\")\n",
    "print(f\"Frequency bin upper edge: {F_edges[f_idx+1]} Hz\")\n",
    "\n",
    "#get the healpix index corresponding to the sky location\n",
    "sky_idx = hp.ang2pix(NSIDE, np.pi/2-dec*np.pi/180.0, RA*np.pi/180.0)\n",
    "print(f\"Sky index: {sky_idx}\")\n",
    "\n",
    "#Scale limit to proper chirp mass and print result\n",
    "print(\"-\"*70)\n",
    "d_lim = dist_limit_skies[f_idx, sky_idx]*(M_c/1e9)**(5/3)\n",
    "d_lim_error = dist_limit_sky_sigmas[f_idx, sky_idx]*(M_c/1e9)**(5/3)\n",
    "print(f\"Luminosity distance lower limit: {d_lim:.1f}+-{d_lim_error:.1f} Mpc\")\n",
    "print(\"-\"*70)"
   ]
  },
  {
   "cell_type": "markdown",
   "id": "727d0028",
   "metadata": {},
   "source": [
    "## Strain upper limits"
   ]
  },
  {
   "cell_type": "code",
   "execution_count": null,
   "id": "ad5bfa02",
   "metadata": {},
   "outputs": [],
   "source": [
    "#In this cell we get the strain upper limit for a given GW frequency and sky location\n",
    "#####################################################################\n",
    "#\n",
    "# INPUT PARAMETERS\n",
    "#\n",
    "#####################################################################\n",
    "#GW frequency\n",
    "f = 11*1e-9 #Hz\n",
    "#Right ascension\n",
    "RA = 20/24*360 #deg\n",
    "#declination\n",
    "dec = -15 #deg\n",
    "#####################################################################\n",
    "\n",
    "#get the healpix NSIDE parameter from the size of the maps\n",
    "NSIDE = hp.npix2nside(strain_limit_skies.shape[1])\n",
    "\n",
    "#get the frequency index corresponding to the GW frequency\n",
    "#(print index and bin edges to make sure we got the right one)\n",
    "f_idx = np.argmin(f>np.array(F_edges))-1\n",
    "print(f\"Frequency index: {f_idx}\")\n",
    "print(f\"Frequency bin lower edge: {F_edges[f_idx]} Hz\")\n",
    "print(f\"Frequency bin upper edge: {F_edges[f_idx+1]} Hz\")\n",
    "\n",
    "#get the healpix index corresponding to the sky location\n",
    "sky_idx = hp.ang2pix(NSIDE, np.pi/2-dec*np.pi/180.0, RA*np.pi/180.0)\n",
    "print(f\"Sky index: {sky_idx}\")\n",
    "\n",
    "#Scale limit to proper chirp mass and print result\n",
    "print(\"-\"*70)\n",
    "h_lim = strain_limit_skies[f_idx, sky_idx]\n",
    "h_lim_error = strain_limit_sky_sigmas[f_idx, sky_idx]\n",
    "print(f\"Strain upper limit: {h_lim:.2g}+-{h_lim_error:.2g}\")\n",
    "print(\"-\"*70)"
   ]
  },
  {
   "cell_type": "code",
   "execution_count": null,
   "id": "eac8758b",
   "metadata": {},
   "outputs": [],
   "source": []
  }
 ],
 "metadata": {
  "kernelspec": {
   "display_name": "Python 3 (ipykernel)",
   "language": "python",
   "name": "python3"
  },
  "language_info": {
   "codemirror_mode": {
    "name": "ipython",
    "version": 3
   },
   "file_extension": ".py",
   "mimetype": "text/x-python",
   "name": "python",
   "nbconvert_exporter": "python",
   "pygments_lexer": "ipython3",
   "version": "3.9.12"
  },
  "toc": {
   "base_numbering": 1,
   "nav_menu": {},
   "number_sections": true,
   "sideBar": true,
   "skip_h1_title": false,
   "title_cell": "Table of Contents",
   "title_sidebar": "Contents",
   "toc_cell": false,
   "toc_position": {},
   "toc_section_display": true,
   "toc_window_display": false
  }
 },
 "nbformat": 4,
 "nbformat_minor": 5
}
