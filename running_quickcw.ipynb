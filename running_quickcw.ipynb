{
 "cells": [
  {
   "cell_type": "markdown",
   "id": "ccd6bfee",
   "metadata": {},
   "source": [
    "# Installation"
   ]
  },
  {
   "cell_type": "markdown",
   "id": "95442fe6",
   "metadata": {},
   "source": [
    "In a conda environment with `enterprise` installed, one can easily install QuickCW by cloning the GitHub repo (https://github.com/bencebecsy/QuickCW/) and from the repo install it with pip as `pip install -e .`. More details can be found at https://github.com/bencebecsy/QuickCW/blob/main/docs/how_to_run_QuickCW.md "
   ]
  },
  {
   "cell_type": "markdown",
   "id": "e620b9f0",
   "metadata": {},
   "source": [
    "# Running"
   ]
  },
  {
   "cell_type": "code",
   "execution_count": null,
   "id": "1646af74",
   "metadata": {},
   "outputs": [],
   "source": [
    "#imports\n",
    "import numpy as np\n",
    "np.seterr(all='raise')\n",
    "import matplotlib.pyplot as plt\n",
    "#import corner\n",
    "\n",
    "import pickle\n",
    "\n",
    "import enterprise\n",
    "from enterprise.pulsar import Pulsar\n",
    "import enterprise.signals.parameter as parameter\n",
    "from enterprise.signals import utils\n",
    "from enterprise.signals import signal_base\n",
    "from enterprise.signals import selections\n",
    "from enterprise.signals.selections import Selection\n",
    "from enterprise.signals import white_signals\n",
    "from enterprise.signals import gp_signals\n",
    "from enterprise.signals import deterministic_signals\n",
    "import enterprise.constants as const\n",
    "\n",
    "from enterprise_extensions import deterministic\n",
    "\n",
    "import glob\n",
    "import bz2\n",
    "#import json\n",
    "\n",
    "import QuickCW.QuickCW as QuickCW\n",
    "from QuickCW.QuickMCMCUtils import ChainParams"
   ]
  },
  {
   "cell_type": "code",
   "execution_count": null,
   "id": "120647cf",
   "metadata": {},
   "outputs": [],
   "source": [
    "%%time\n",
    "#Setting everything up for the sampler - this should run in a couple minutes\n",
    "#and will require a good amount of RAM (10+ GB)\n",
    "\n",
    "#loading in data from BZ2 compressed pickle files\n",
    "psrs = []\n",
    "for psrfile in sorted(glob.glob('data/jar/*.bz2.pkl')):\n",
    "    with bz2.BZ2File(psrfile, 'rb') as f:\n",
    "        psr = pickle.load(f)\n",
    "        print(psr.name)\n",
    "        psrs.append(psr)       \n",
    "\n",
    "print(len(psrs))\n",
    "\n",
    "#number of iterations (increase to 100 million - 1 billion for actual analysis)\n",
    "N = 5_000_000\n",
    "\n",
    "n_int_block = 10_000 #number of iterations in a block (which has one shape update and the rest are projection updates)\n",
    "save_every_n = 100_000 #number of iterations between saving intermediate results (needs to be intiger multiple of n_int_block)\n",
    "N_blocks = np.int64(N//n_int_block) #number of blocks to do\n",
    "fisher_eig_downsample = 2000 #multiplier for how much less to do more expensive updates to fisher eigendirections for red noise and common parameters compared to diagonal elements\n",
    "\n",
    "n_status_update = 100 #number of status update printouts (N/n_status_update needs to be an intiger multiple of n_int_block)\n",
    "n_block_status_update = np.int64(N_blocks//n_status_update) #number of bllocks between status updates\n",
    "\n",
    "assert N_blocks%n_status_update ==0 #or we won't print status updates\n",
    "assert N%save_every_n == 0 #or we won't save a complete block\n",
    "assert N%n_int_block == 0 #or we won't execute the right number of blocks\n",
    "\n",
    "#Parallel tempering prameters\n",
    "T_max = 3.\n",
    "n_chain = 4\n",
    "\n",
    "#make sure this points to your white noise dictionary\n",
    "noisefile = 'data/v1p1_all_dict.json'\n",
    "\n",
    "#make sure this points to the RN empirical distribution file you plan to use (or set to None to not use empirical distributions)\n",
    "rn_emp_dist_file = 'data/emp_dist_15yr_v1p1_bence_my_run_v4.3.pkl'\n",
    "#rn_emp_dist_file = None\n",
    "\n",
    "#file containing information about pulsar distances - None means use pulsar distances present in psr objects\n",
    "#if not None psr objects must have zero distance and unit variance\n",
    "psr_dist_file = 'data/pulsar_distances_15yr.pkl'\n",
    "\n",
    "#this is where results will be saved\n",
    "savefile = 'quickCW_test.h5'\n",
    "#savefile = None\n",
    "\n",
    "#Setup and start MCMC\n",
    "#object containing common parameters for the mcmc chain\n",
    "chain_params = ChainParams(T_max,n_chain, n_block_status_update,\n",
    "                           freq_bounds=np.array([np.nan, 3e-7]), #prior bounds used on the GW frequency (a lower bound of np.nan is interpreted as 1/T_obs)\n",
    "                           n_int_block=n_int_block, #number of iterations in a block (which has one shape update and the rest are projection updates)\n",
    "                           save_every_n=save_every_n, #number of iterations between saving intermediate results (needs to be intiger multiple of n_int_block)\n",
    "                           fisher_eig_downsample=fisher_eig_downsample, #multiplier for how much less to do more expensive updates to fisher eigendirections for red noise and common parameters compared to diagonal elements\n",
    "                           rn_emp_dist_file=rn_emp_dist_file, #RN empirical distribution file to use (no empirical distribution jumps attempted if set to None)\n",
    "                           savefile = savefile,#hdf5 file to save to, will not save at all if None\n",
    "                           thin=100,  #thinning, i.e. save every `thin`th sample to file (increase to higher than one to keep file sizes small)\n",
    "                           prior_draw_prob=0.2, de_prob=0.6, fisher_prob=0.3, #probability of different jump types\n",
    "                           dist_jump_weight=0.2, rn_jump_weight=0.3, gwb_jump_weight=0.1, common_jump_weight=0.2, all_jump_weight=0.2, #probability of updating different groups of parameters\n",
    "                           fix_rn=False, zero_rn=False, fix_gwb=False, zero_gwb=False) #switches to turn off GWB or RN jumps and keep them fixed and to set them to practically zero (gamma=0.0, log10_A=-20)\n",
    "\n",
    "pta,mcc = QuickCW.QuickCW(chain_params, psrs,\n",
    "                          amplitude_prior='detection', #specify amplitude prior to use - 'detection':uniform in log-amplitude, 'UL': uniform in amplitude\n",
    "                          psr_distance_file=psr_dist_file, #file to specify advanced (parallax+DM) pulsar distance priors, if None use regular Gaussian priors based on pulsar distances in pulsar objects\n",
    "                          noise_json=noisefile)\n",
    "\n",
    "#Some parameters in chain_params can be updated later if needed\n",
    "mcc.chain_params.thin = 10"
   ]
  },
  {
   "cell_type": "code",
   "execution_count": null,
   "id": "62614df8",
   "metadata": {},
   "outputs": [],
   "source": [
    "%%time\n",
    "#Once we have everything set up, we can sample simply by asking mcc to advance the sampler\n",
    "#With the above lightweight setup it should run in about an hour, but those should be increased for actual\n",
    "#analysis, so these runs will typically take a few days\n",
    "mcc.advance_N_blocks(N_blocks)"
   ]
  },
  {
   "cell_type": "markdown",
   "id": "d1869bb5",
   "metadata": {},
   "source": [
    "Once the run is done, results can be analyzed in the `detection_analysis.ipynb` and `UL_analysis.ipynb` notebooks."
   ]
  },
  {
   "cell_type": "code",
   "execution_count": null,
   "id": "76adc993",
   "metadata": {},
   "outputs": [],
   "source": []
  }
 ],
 "metadata": {
  "kernelspec": {
   "display_name": "Python 3 (ipykernel)",
   "language": "python",
   "name": "python3"
  },
  "language_info": {
   "codemirror_mode": {
    "name": "ipython",
    "version": 3
   },
   "file_extension": ".py",
   "mimetype": "text/x-python",
   "name": "python",
   "nbconvert_exporter": "python",
   "pygments_lexer": "ipython3",
   "version": "3.9.12"
  },
  "toc": {
   "base_numbering": 1,
   "nav_menu": {},
   "number_sections": true,
   "sideBar": true,
   "skip_h1_title": false,
   "title_cell": "Table of Contents",
   "title_sidebar": "Contents",
   "toc_cell": false,
   "toc_position": {},
   "toc_section_display": true,
   "toc_window_display": false
  }
 },
 "nbformat": 4,
 "nbformat_minor": 5
}
